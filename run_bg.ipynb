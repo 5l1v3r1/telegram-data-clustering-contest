{
 "cells": [
  {
   "cell_type": "code",
   "execution_count": 24,
   "metadata": {},
   "outputs": [
    {
     "name": "stdout",
     "output_type": "stream",
     "text": [
      "UID        PID  PPID  C STIME TTY          TIME CMD\r\n",
      "root       593   592  0 15:41 pts/4    00:00:00 ps -af\r\n"
     ]
    }
   ],
   "source": [
    "!ps -af"
   ]
  },
  {
   "cell_type": "code",
   "execution_count": 1,
   "metadata": {},
   "outputs": [
    {
     "data": {
      "text/plain": [
       "0"
      ]
     },
     "execution_count": 1,
     "metadata": {},
     "output_type": "execute_result"
    }
   ],
   "source": [
    "import os\n",
    "name='telegram_data_clustering_contest_FE'\n",
    "os.system(\"jupyter nbconvert --execute --ExecutePreprocessor.timeout=-1 --clear-output --to=notebook {name}.ipynb >{name}.log 2>&1 &\".format(name=name))"
   ]
  },
  {
   "cell_type": "code",
   "execution_count": 1,
   "metadata": {},
   "outputs": [
    {
     "data": {
      "text/plain": [
       "0"
      ]
     },
     "execution_count": 1,
     "metadata": {},
     "output_type": "execute_result"
    }
   ],
   "source": [
    "import os\n",
    "name='telegram_data_clustering_contest_EDA-en'\n",
    "os.system(\"jupyter nbconvert --execute --ExecutePreprocessor.timeout=-1 --clear-output --to=notebook {name}.ipynb >{name}.log 2>&1 &\".format(name=name))"
   ]
  },
  {
   "cell_type": "code",
   "execution_count": 1,
   "metadata": {},
   "outputs": [
    {
     "data": {
      "text/plain": [
       "0"
      ]
     },
     "execution_count": 1,
     "metadata": {},
     "output_type": "execute_result"
    }
   ],
   "source": [
    "import os\n",
    "name='telegram_data_clustering_contest_EDA-en2'\n",
    "os.system(\"jupyter nbconvert --execute --ExecutePreprocessor.timeout=-1 --clear-output --to=notebook {name}.ipynb >{name}.log 2>&1 &\".format(name=name))"
   ]
  },
  {
   "cell_type": "code",
   "execution_count": 1,
   "metadata": {},
   "outputs": [
    {
     "data": {
      "text/plain": [
       "0"
      ]
     },
     "execution_count": 1,
     "metadata": {},
     "output_type": "execute_result"
    }
   ],
   "source": [
    "import os\n",
    "name='telegram_data_clustering_contest_EDA-ru'\n",
    "os.system(\"jupyter nbconvert --execute --ExecutePreprocessor.timeout=-1 --clear-output --to=notebook {name}.ipynb >{name}.log 2>&1 &\".format(name=name))"
   ]
  },
  {
   "cell_type": "code",
   "execution_count": 1,
   "metadata": {},
   "outputs": [
    {
     "data": {
      "text/plain": [
       "0"
      ]
     },
     "execution_count": 1,
     "metadata": {},
     "output_type": "execute_result"
    }
   ],
   "source": [
    "import os\n",
    "name='telegram_data_clustering_contest_EDA-ru2'\n",
    "os.system(\"jupyter nbconvert --execute --ExecutePreprocessor.timeout=-1 --clear-output --to=notebook {name}.ipynb >{name}.log 2>&1 &\".format(name=name))"
   ]
  }
 ],
 "metadata": {
  "kernelspec": {
   "display_name": "Python 3",
   "language": "python",
   "name": "python3"
  },
  "language_info": {
   "codemirror_mode": {
    "name": "ipython",
    "version": 3
   },
   "file_extension": ".py",
   "mimetype": "text/x-python",
   "name": "python",
   "nbconvert_exporter": "python",
   "pygments_lexer": "ipython3",
   "version": "3.7.5"
  }
 },
 "nbformat": 4,
 "nbformat_minor": 2
}
