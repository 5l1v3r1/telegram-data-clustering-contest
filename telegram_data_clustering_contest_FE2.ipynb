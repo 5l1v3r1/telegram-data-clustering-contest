{
 "cells": [
  {
   "cell_type": "markdown",
   "metadata": {},
   "source": [
    "# Feature Extraction part 2"
   ]
  },
  {
   "cell_type": "code",
   "execution_count": 1,
   "metadata": {
    "colab": {},
    "colab_type": "code",
    "id": "xais9mEzlDxi"
   },
   "outputs": [],
   "source": [
    "# Re-install pytables for hdf support (google colab has old & glitchy pytables)\n",
    "#!pip uninstall -y tables\n",
    "#!pip install tables"
   ]
  },
  {
   "cell_type": "code",
   "execution_count": 2,
   "metadata": {},
   "outputs": [
    {
     "name": "stdout",
     "output_type": "stream",
     "text": [
      "<class 'pandas.core.frame.DataFrame'>\n",
      "Int64Index: 227654 entries, 0 to 467481\n",
      "Data columns (total 3 columns):\n",
      "filename    227654 non-null object\n",
      "text        227654 non-null object\n",
      "lang        227654 non-null object\n",
      "dtypes: object(3)\n",
      "memory usage: 6.9+ MB\n"
     ]
    }
   ],
   "source": [
    "import pandas as pd\n",
    "df = pd.read_hdf('fe1.h5')\n",
    "df.info()"
   ]
  },
  {
   "cell_type": "code",
   "execution_count": 3,
   "metadata": {
    "colab": {
     "base_uri": "https://localhost:8080/",
     "height": 206
    },
    "colab_type": "code",
    "id": "UzK7j00FLCSP",
    "outputId": "8bdebf92-ac9f-4925-b552-281d769eabdf"
   },
   "outputs": [
    {
     "data": {
      "text/html": [
       "<div>\n",
       "<style scoped>\n",
       "    .dataframe tbody tr th:only-of-type {\n",
       "        vertical-align: middle;\n",
       "    }\n",
       "\n",
       "    .dataframe tbody tr th {\n",
       "        vertical-align: top;\n",
       "    }\n",
       "\n",
       "    .dataframe thead th {\n",
       "        text-align: right;\n",
       "    }\n",
       "</style>\n",
       "<table border=\"1\" class=\"dataframe\">\n",
       "  <thead>\n",
       "    <tr style=\"text-align: right;\">\n",
       "      <th></th>\n",
       "      <th>filename</th>\n",
       "      <th>text</th>\n",
       "      <th>lang</th>\n",
       "    </tr>\n",
       "  </thead>\n",
       "  <tbody>\n",
       "    <tr>\n",
       "      <th>0</th>\n",
       "      <td>dataset/20191108/15/1491978796208217930.html</td>\n",
       "      <td>\\n\\n\\n\\n\\n\\n\\n\\n\\n\\n\\n\\nNewcastle United v Bou...</td>\n",
       "      <td>en</td>\n",
       "    </tr>\n",
       "    <tr>\n",
       "      <th>4</th>\n",
       "      <td>dataset/20191108/15/6359253557838878602.html</td>\n",
       "      <td>\\n\\n\\n\\n\\n\\n\\n\\n\\n\\n\\n\\nМинкомсвязь негативно ...</td>\n",
       "      <td>ru</td>\n",
       "    </tr>\n",
       "    <tr>\n",
       "      <th>6</th>\n",
       "      <td>dataset/20191108/15/8549607152500932485.html</td>\n",
       "      <td>\\n\\n\\n\\n\\n\\n\\n\\n\\n\\n\\n\\nTether Responds to Mar...</td>\n",
       "      <td>en</td>\n",
       "    </tr>\n",
       "    <tr>\n",
       "      <th>7</th>\n",
       "      <td>dataset/20191108/15/3752801377276103486.html</td>\n",
       "      <td>\\n\\n\\n\\n\\n\\n\\n\\n\\n\\n\\n\\nAnger over Las Vegas b...</td>\n",
       "      <td>en</td>\n",
       "    </tr>\n",
       "    <tr>\n",
       "      <th>10</th>\n",
       "      <td>dataset/20191108/15/5545714965965021212.html</td>\n",
       "      <td>\\n\\n\\n\\n\\n\\n\\n\\n\\n\\n\\n\\nAmerican Truck Simulat...</td>\n",
       "      <td>en</td>\n",
       "    </tr>\n",
       "  </tbody>\n",
       "</table>\n",
       "</div>"
      ],
      "text/plain": [
       "                                        filename  \\\n",
       "0   dataset/20191108/15/1491978796208217930.html   \n",
       "4   dataset/20191108/15/6359253557838878602.html   \n",
       "6   dataset/20191108/15/8549607152500932485.html   \n",
       "7   dataset/20191108/15/3752801377276103486.html   \n",
       "10  dataset/20191108/15/5545714965965021212.html   \n",
       "\n",
       "                                                 text lang  \n",
       "0   \\n\\n\\n\\n\\n\\n\\n\\n\\n\\n\\n\\nNewcastle United v Bou...   en  \n",
       "4   \\n\\n\\n\\n\\n\\n\\n\\n\\n\\n\\n\\nМинкомсвязь негативно ...   ru  \n",
       "6   \\n\\n\\n\\n\\n\\n\\n\\n\\n\\n\\n\\nTether Responds to Mar...   en  \n",
       "7   \\n\\n\\n\\n\\n\\n\\n\\n\\n\\n\\n\\nAnger over Las Vegas b...   en  \n",
       "10  \\n\\n\\n\\n\\n\\n\\n\\n\\n\\n\\n\\nAmerican Truck Simulat...   en  "
      ]
     },
     "execution_count": 3,
     "metadata": {},
     "output_type": "execute_result"
    }
   ],
   "source": [
    "df.head()"
   ]
  },
  {
   "cell_type": "markdown",
   "metadata": {},
   "source": [
    "Предположительно все файлы имеют одинаковую структуру. В заголовке должны быть теги `<meta property=\"og:xxx\" content=\"yyy\"/>`. Проверим это..."
   ]
  },
  {
   "cell_type": "code",
   "execution_count": 4,
   "metadata": {
    "colab": {
     "base_uri": "https://localhost:8080/",
     "height": 34
    },
    "colab_type": "code",
    "id": "T0BGBhUyi81i",
    "outputId": "cdd1ffc4-ef98-486b-f673-297f64115643"
   },
   "outputs": [
    {
     "name": "stderr",
     "output_type": "stream",
     "text": [
      "  0%|          | 0/227654 [00:00<?, ?it/s][Parallel(n_jobs=-1)]: Using backend LokyBackend with 6 concurrent workers.\n",
      "  0%|          | 12/227654 [00:00<1:33:06, 40.75it/s][Parallel(n_jobs=-1)]: Done  20 tasks      | elapsed:    0.3s\n",
      "  4%|▍         | 9216/227654 [00:01<15:16, 238.32it/s][Parallel(n_jobs=-1)]: Done 5120 tasks      | elapsed:    1.0s\n",
      " 39%|███▉      | 89088/227654 [00:06<00:09, 14543.68it/s][Parallel(n_jobs=-1)]: Done 86016 tasks      | elapsed:    7.0s\n",
      " 90%|█████████ | 205824/227654 [00:15<00:02, 10284.48it/s][Parallel(n_jobs=-1)]: Done 200704 tasks      | elapsed:   16.1s\n",
      "100%|██████████| 227654/227654 [00:17<00:00, 12862.29it/s]\n",
      "[Parallel(n_jobs=-1)]: Done 227654 out of 227654 | elapsed:   18.1s finished\n"
     ]
    },
    {
     "name": "stdout",
     "output_type": "stream",
     "text": [
      "<class 'pandas.core.frame.DataFrame'>\n",
      "RangeIndex: 227654 entries, 0 to 227653\n",
      "Data columns (total 5 columns):\n",
      "url            227654 non-null object\n",
      "site           227654 non-null object\n",
      "time           227654 non-null object\n",
      "title          227654 non-null object\n",
      "description    227150 non-null object\n",
      "dtypes: object(5)\n",
      "memory usage: 8.7+ MB\n"
     ]
    }
   ],
   "source": [
    "import re\n",
    "from tqdm import tqdm\n",
    "from joblib import Parallel, delayed\n",
    "\n",
    "regexps = (\n",
    "    re.compile(r'<meta property=\"og:url\" content=\"(.+)\"/>'),\n",
    "    re.compile(r'<meta property=\"og:site_name\" content=\"(.+)\"/>'),\n",
    "    re.compile(r'<meta property=\"article:published_time\" content=\"(.+)\"/>'),\n",
    "    re.compile(r'<meta property=\"og:title\" content=\"(.+)\"/>'),\n",
    "    re.compile(r'<meta property=\"og:description\" content=\"(.+)\"/>'),\n",
    ")\n",
    "\n",
    "def process(fn):\n",
    "  global regexps\n",
    "  with open(fn, 'r') as f:\n",
    "    data = f.read()\n",
    "    df_row = []\n",
    "    for r in regexps:\n",
    "      m = r.search(data)\n",
    "      df_row.append(m.group(1) if m else None)\n",
    "  return df_row\n",
    "\n",
    "df2 = pd.DataFrame(data=Parallel(n_jobs=-1, verbose=3)(delayed(process)(fn) for fn in tqdm(df['filename'].values)),\n",
    "                   columns=['url', 'site', 'time', 'title', 'description'])\n",
    "df2.info()"
   ]
  },
  {
   "cell_type": "code",
   "execution_count": 5,
   "metadata": {
    "colab": {},
    "colab_type": "code",
    "id": "_D8GSS9Sklrs"
   },
   "outputs": [],
   "source": [
    "df1 = df\n",
    "df = df2"
   ]
  },
  {
   "cell_type": "code",
   "execution_count": 6,
   "metadata": {
    "colab": {},
    "colab_type": "code",
    "id": "6MEPBE0VkafR",
    "scrolled": true
   },
   "outputs": [
    {
     "data": {
      "text/html": [
       "<div>\n",
       "<style scoped>\n",
       "    .dataframe tbody tr th:only-of-type {\n",
       "        vertical-align: middle;\n",
       "    }\n",
       "\n",
       "    .dataframe tbody tr th {\n",
       "        vertical-align: top;\n",
       "    }\n",
       "\n",
       "    .dataframe thead th {\n",
       "        text-align: right;\n",
       "    }\n",
       "</style>\n",
       "<table border=\"1\" class=\"dataframe\">\n",
       "  <thead>\n",
       "    <tr style=\"text-align: right;\">\n",
       "      <th></th>\n",
       "      <th>url</th>\n",
       "      <th>site</th>\n",
       "      <th>time</th>\n",
       "      <th>title</th>\n",
       "      <th>description</th>\n",
       "    </tr>\n",
       "  </thead>\n",
       "  <tbody>\n",
       "    <tr>\n",
       "      <th>0</th>\n",
       "      <td>https://www.theguardian.com/football/2019/nov/...</td>\n",
       "      <td>the Guardian</td>\n",
       "      <td>2019-11-08T15:14:57+00:00</td>\n",
       "      <td>Newcastle United v Bournemouth: match preview</td>\n",
       "      <td>Newcastle finally found attacking rhythm last ...</td>\n",
       "    </tr>\n",
       "    <tr>\n",
       "      <th>1</th>\n",
       "      <td>https://newdaynews.ru/technology/676145.html</td>\n",
       "      <td>Новый День</td>\n",
       "      <td>2019-11-08T15:35:16+00:00</td>\n",
       "      <td>Минкомсвязь негативно оценила законопроект о б...</td>\n",
       "      <td>Минкомсвязь отказалась поддержать законопроект...</td>\n",
       "    </tr>\n",
       "    <tr>\n",
       "      <th>2</th>\n",
       "      <td>https://btcmanager.com/tether-market-manipulat...</td>\n",
       "      <td>BTC Manager</td>\n",
       "      <td>2019-11-08T15:00:10+00:00</td>\n",
       "      <td>Tether Responds to Market Manipulation Accusat...</td>\n",
       "      <td>Tether, the most widely used stablecoin, has r...</td>\n",
       "    </tr>\n",
       "    <tr>\n",
       "      <th>3</th>\n",
       "      <td>https://www.news24.com/World/News/anger-over-l...</td>\n",
       "      <td>News24</td>\n",
       "      <td>2019-11-08T15:31:00+00:00</td>\n",
       "      <td>Anger over Las Vegas ban on sleeping in streets</td>\n",
       "      <td>Faced with a growing number of homeless people...</td>\n",
       "    </tr>\n",
       "    <tr>\n",
       "      <th>4</th>\n",
       "      <td>https://www.destructoid.com/american-truck-sim...</td>\n",
       "      <td>Destructoid</td>\n",
       "      <td>2019-11-08T15:00:00+00:00</td>\n",
       "      <td>American Truck Simulator is free for the weekend</td>\n",
       "      <td>Between Red Dead Redemption 2, Death Stranding...</td>\n",
       "    </tr>\n",
       "  </tbody>\n",
       "</table>\n",
       "</div>"
      ],
      "text/plain": [
       "                                                 url          site  \\\n",
       "0  https://www.theguardian.com/football/2019/nov/...  the Guardian   \n",
       "1       https://newdaynews.ru/technology/676145.html    Новый День   \n",
       "2  https://btcmanager.com/tether-market-manipulat...   BTC Manager   \n",
       "3  https://www.news24.com/World/News/anger-over-l...        News24   \n",
       "4  https://www.destructoid.com/american-truck-sim...   Destructoid   \n",
       "\n",
       "                        time  \\\n",
       "0  2019-11-08T15:14:57+00:00   \n",
       "1  2019-11-08T15:35:16+00:00   \n",
       "2  2019-11-08T15:00:10+00:00   \n",
       "3  2019-11-08T15:31:00+00:00   \n",
       "4  2019-11-08T15:00:00+00:00   \n",
       "\n",
       "                                               title  \\\n",
       "0      Newcastle United v Bournemouth: match preview   \n",
       "1  Минкомсвязь негативно оценила законопроект о б...   \n",
       "2  Tether Responds to Market Manipulation Accusat...   \n",
       "3    Anger over Las Vegas ban on sleeping in streets   \n",
       "4   American Truck Simulator is free for the weekend   \n",
       "\n",
       "                                         description  \n",
       "0  Newcastle finally found attacking rhythm last ...  \n",
       "1  Минкомсвязь отказалась поддержать законопроект...  \n",
       "2  Tether, the most widely used stablecoin, has r...  \n",
       "3  Faced with a growing number of homeless people...  \n",
       "4  Between Red Dead Redemption 2, Death Stranding...  "
      ]
     },
     "execution_count": 6,
     "metadata": {},
     "output_type": "execute_result"
    }
   ],
   "source": [
    "df.head()"
   ]
  },
  {
   "cell_type": "markdown",
   "metadata": {},
   "source": [
    "Посмотрим сколько файлов без тега `<meta property=\"og:url\"`:"
   ]
  },
  {
   "cell_type": "code",
   "execution_count": 7,
   "metadata": {},
   "outputs": [
    {
     "data": {
      "text/plain": [
       "0"
      ]
     },
     "execution_count": 7,
     "metadata": {},
     "output_type": "execute_result"
    }
   ],
   "source": [
    "df[df['url'] == None].shape[0]"
   ]
  },
  {
   "cell_type": "markdown",
   "metadata": {},
   "source": [
    "Все файлы с `url`."
   ]
  },
  {
   "cell_type": "markdown",
   "metadata": {},
   "source": [
    "Посмотрим сколько файлов без тегов:"
   ]
  },
  {
   "cell_type": "code",
   "execution_count": 8,
   "metadata": {},
   "outputs": [
    {
     "name": "stdout",
     "output_type": "stream",
     "text": [
      "url: 0\n",
      "site: 0\n",
      "time: 0\n",
      "title: 0\n",
      "description: 0\n"
     ]
    }
   ],
   "source": [
    "for c in df.columns:\n",
    "    print('%s: %d' % (c, df[df[c] == None].shape[0]))"
   ]
  },
  {
   "cell_type": "markdown",
   "metadata": {},
   "source": [
    "Теги есть во всех файлах. Структура файлов одинаковая."
   ]
  },
  {
   "cell_type": "markdown",
   "metadata": {},
   "source": [
    "## Разметка данных"
   ]
  },
  {
   "cell_type": "markdown",
   "metadata": {},
   "source": [
    "Идея в том, что нужная категория вероятно содержится в url. Некторые url содержат слова `news`, `politics`, и др. Предлагается разметить данные по тегу `url` и затем скормить это в какую-нить ML-модель."
   ]
  },
  {
   "cell_type": "code",
   "execution_count": 9,
   "metadata": {
    "colab": {},
    "colab_type": "code",
    "id": "421cbaGpkefQ"
   },
   "outputs": [
    {
     "data": {
      "text/plain": [
       "('News',\n",
       " {'Politics': 'Society',\n",
       "  'Elections': 'Society',\n",
       "  'Legislation': 'Society',\n",
       "  'Incidents': 'Society',\n",
       "  'Crime': 'Society',\n",
       "  'Society': 'Society',\n",
       "  'Markets': 'Economy',\n",
       "  'Finance': 'Economy',\n",
       "  'Business': 'Economy',\n",
       "  'Economy': 'Economy',\n",
       "  'Gadgets': 'Technology',\n",
       "  'Auto': 'Technology',\n",
       "  'Apps': 'Technology',\n",
       "  'Internet': 'Technology',\n",
       "  'Technology': 'Technology',\n",
       "  'Sport': 'Sports',\n",
       "  'E-Sport': 'Sports',\n",
       "  'ESport': 'Sports',\n",
       "  'Sports': 'Sports',\n",
       "  'Movies': 'Entertainment',\n",
       "  'Music': 'Entertainment',\n",
       "  'Games': 'Entertainment',\n",
       "  'Books': 'Entertainment',\n",
       "  'Arts': 'Entertainment',\n",
       "  'Entertainment': 'Entertainment',\n",
       "  'Health': 'Science',\n",
       "  'Biology': 'Science',\n",
       "  'Physics': 'Science',\n",
       "  'Genetics': 'Science',\n",
       "  'Science': 'Science'})"
      ]
     },
     "execution_count": 9,
     "metadata": {},
     "output_type": "execute_result"
    }
   ],
   "source": [
    "top_cat = 'News'\n",
    "cats = {\n",
    "    'Society': ('Politics', 'Elections', 'Legislation', 'Incidents', 'Crime'),\n",
    "    'Economy': ('Markets', 'Finance', 'Business'),\n",
    "    'Technology': ('Gadgets', 'Auto', 'Apps', 'Internet'),\n",
    "    'Sports': ('Sport', 'E-Sport', 'ESport'),\n",
    "    'Entertainment': ('Movies', 'Music', 'Games', 'Books', 'Arts'),\n",
    "    'Science': ('Health', 'Biology', 'Physics', 'Genetics'),\n",
    "}\n",
    "other_cat = 'Other'\n",
    "rev_cats = dict()\n",
    "for cat in cats:\n",
    "  for c in cats[cat]:\n",
    "    rev_cats[c] = cat\n",
    "  rev_cats[cat] = cat\n",
    "top_cat, rev_cats"
   ]
  },
  {
   "cell_type": "code",
   "execution_count": 10,
   "metadata": {
    "colab": {},
    "colab_type": "code",
    "id": "6fBj5ajakhP7",
    "scrolled": true
   },
   "outputs": [
    {
     "data": {
      "text/plain": [
       "['News',\n",
       " 'Politics',\n",
       " 'Elections',\n",
       " 'Legislation',\n",
       " 'Incidents',\n",
       " 'Crime',\n",
       " 'Society',\n",
       " 'Markets',\n",
       " 'Finance',\n",
       " 'Business',\n",
       " 'Economy',\n",
       " 'Gadgets',\n",
       " 'Auto',\n",
       " 'Apps',\n",
       " 'Internet',\n",
       " 'Technology',\n",
       " 'Sport',\n",
       " 'E-Sport',\n",
       " 'ESport',\n",
       " 'Sports',\n",
       " 'Movies',\n",
       " 'Music',\n",
       " 'Games',\n",
       " 'Books',\n",
       " 'Arts',\n",
       " 'Entertainment',\n",
       " 'Health',\n",
       " 'Biology',\n",
       " 'Physics',\n",
       " 'Genetics',\n",
       " 'Science']"
      ]
     },
     "execution_count": 10,
     "metadata": {},
     "output_type": "execute_result"
    }
   ],
   "source": [
    "all_cats = [top_cat] + list(rev_cats.keys())\n",
    "all_cats"
   ]
  },
  {
   "cell_type": "code",
   "execution_count": 11,
   "metadata": {
    "colab": {},
    "colab_type": "code",
    "id": "ua_I2p_0kjXu"
   },
   "outputs": [
    {
     "name": "stdout",
     "output_type": "stream",
     "text": [
      "<class 'pandas.core.frame.DataFrame'>\n",
      "RangeIndex: 227654 entries, 0 to 227653\n",
      "Data columns (total 36 columns):\n",
      "url              227654 non-null object\n",
      "site             227654 non-null object\n",
      "time             227654 non-null object\n",
      "title            227654 non-null object\n",
      "description      227150 non-null object\n",
      "news             227654 non-null bool\n",
      "politics         227654 non-null bool\n",
      "elections        227654 non-null bool\n",
      "legislation      227654 non-null bool\n",
      "incidents        227654 non-null bool\n",
      "crime            227654 non-null bool\n",
      "society          227654 non-null bool\n",
      "markets          227654 non-null bool\n",
      "finance          227654 non-null bool\n",
      "business         227654 non-null bool\n",
      "economy          227654 non-null bool\n",
      "gadgets          227654 non-null bool\n",
      "auto             227654 non-null bool\n",
      "apps             227654 non-null bool\n",
      "internet         227654 non-null bool\n",
      "technology       227654 non-null bool\n",
      "sport            227654 non-null bool\n",
      "e-sport          227654 non-null bool\n",
      "esport           227654 non-null bool\n",
      "sports           227654 non-null bool\n",
      "movies           227654 non-null bool\n",
      "music            227654 non-null bool\n",
      "games            227654 non-null bool\n",
      "books            227654 non-null bool\n",
      "arts             227654 non-null bool\n",
      "entertainment    227654 non-null bool\n",
      "health           227654 non-null bool\n",
      "biology          227654 non-null bool\n",
      "physics          227654 non-null bool\n",
      "genetics         227654 non-null bool\n",
      "science          227654 non-null bool\n",
      "dtypes: bool(31), object(5)\n",
      "memory usage: 15.4+ MB\n",
      "CPU times: user 4.86 s, sys: 348 ms, total: 5.21 s\n",
      "Wall time: 5.21 s\n"
     ]
    }
   ],
   "source": [
    "%%time\n",
    "for cat in all_cats:\n",
    "  df[cat.lower()] = df['url'].str.contains(cat, case=False, regex=False)\n",
    "df.info()"
   ]
  },
  {
   "cell_type": "code",
   "execution_count": 12,
   "metadata": {
    "colab": {},
    "colab_type": "code",
    "id": "IcmgHXFAkujT"
   },
   "outputs": [
    {
     "name": "stdout",
     "output_type": "stream",
     "text": [
      "False    114418\n",
      "True     113236\n",
      "Name: news, dtype: int64\n",
      "\n",
      "False    222580\n",
      "True       5074\n",
      "Name: politics, dtype: int64\n",
      "\n",
      "False    227405\n",
      "True        249\n",
      "Name: elections, dtype: int64\n",
      "\n",
      "False    227635\n",
      "True         19\n",
      "Name: legislation, dtype: int64\n",
      "\n",
      "False    226715\n",
      "True        939\n",
      "Name: incidents, dtype: int64\n",
      "\n",
      "False    226701\n",
      "True        953\n",
      "Name: crime, dtype: int64\n",
      "\n",
      "False    222621\n",
      "True       5033\n",
      "Name: society, dtype: int64\n",
      "\n",
      "False    225455\n",
      "True       2199\n",
      "Name: markets, dtype: int64\n",
      "\n",
      "False    227061\n",
      "True        593\n",
      "Name: finance, dtype: int64\n",
      "\n",
      "False    218430\n",
      "True       9224\n",
      "Name: business, dtype: int64\n",
      "\n",
      "False    226318\n",
      "True       1336\n",
      "Name: economy, dtype: int64\n",
      "\n",
      "False    227493\n",
      "True        161\n",
      "Name: gadgets, dtype: int64\n",
      "\n",
      "False    225665\n",
      "True       1989\n",
      "Name: auto, dtype: int64\n",
      "\n",
      "False    227488\n",
      "True        166\n",
      "Name: apps, dtype: int64\n",
      "\n",
      "False    227198\n",
      "True        456\n",
      "Name: internet, dtype: int64\n",
      "\n",
      "False    226976\n",
      "True        678\n",
      "Name: technology, dtype: int64\n",
      "\n",
      "False    212348\n",
      "True      15306\n",
      "Name: sport, dtype: int64\n",
      "\n",
      "False    227506\n",
      "True        148\n",
      "Name: e-sport, dtype: int64\n",
      "\n",
      "False    227169\n",
      "True        485\n",
      "Name: esport, dtype: int64\n",
      "\n",
      "False    222480\n",
      "True       5174\n",
      "Name: sports, dtype: int64\n",
      "\n",
      "False    227305\n",
      "True        349\n",
      "Name: movies, dtype: int64\n",
      "\n",
      "False    226451\n",
      "True       1203\n",
      "Name: music, dtype: int64\n",
      "\n",
      "False    226980\n",
      "True        674\n",
      "Name: games, dtype: int64\n",
      "\n",
      "False    227321\n",
      "True        333\n",
      "Name: books, dtype: int64\n",
      "\n",
      "False    226824\n",
      "True        830\n",
      "Name: arts, dtype: int64\n",
      "\n",
      "False    224990\n",
      "True       2664\n",
      "Name: entertainment, dtype: int64\n",
      "\n",
      "False    225686\n",
      "True       1968\n",
      "Name: health, dtype: int64\n",
      "\n",
      "False    227651\n",
      "True          3\n",
      "Name: biology, dtype: int64\n",
      "\n",
      "False    227617\n",
      "True         37\n",
      "Name: physics, dtype: int64\n",
      "\n",
      "False    227649\n",
      "True          5\n",
      "Name: genetics, dtype: int64\n",
      "\n",
      "False    226583\n",
      "True       1071\n",
      "Name: science, dtype: int64\n",
      "\n"
     ]
    }
   ],
   "source": [
    "for cat in all_cats:\n",
    "  print(df[cat.lower()].value_counts())\n",
    "  print()"
   ]
  },
  {
   "cell_type": "code",
   "execution_count": 13,
   "metadata": {},
   "outputs": [],
   "source": [
    "import matplotlib.pyplot as plt\n",
    "plt.show() # init"
   ]
  },
  {
   "cell_type": "code",
   "execution_count": 14,
   "metadata": {
    "colab": {},
    "colab_type": "code",
    "id": "2JlIAfNKkvQi"
   },
   "outputs": [
    {
     "data": {
      "image/png": "[encoded data removed]",
      "text/plain": [
       "<Figure size 432x288 with 1 Axes>"
      ]
     },
     "metadata": {
      "needs_background": "light"
     },
     "output_type": "display_data"
    }
   ],
   "source": [
    "for cat in all_cats:\n",
    "  plt.barh(cat, df[df[cat.lower()] == True].shape[0])\n",
    "plt.show()"
   ]
  },
  {
   "cell_type": "code",
   "execution_count": 15,
   "metadata": {
    "colab": {
     "base_uri": "https://localhost:8080/",
     "height": 173
    },
    "colab_type": "code",
    "id": "64elhLuCLCS1",
    "outputId": "ddd82335-fd06-4e11-bfff-fe45ea6e8b9c"
   },
   "outputs": [
    {
     "name": "stderr",
     "output_type": "stream",
     "text": [
      "/usr/local/lib/python3.7/dist-packages/pandas/core/generic.py:2530: PerformanceWarning: \n",
      "your performance may suffer as PyTables will pickle object types that it cannot\n",
      "map directly to c-types [inferred_type->mixed,key->block1_values] [items->['url', 'site', 'time', 'title', 'description']]\n",
      "\n",
      "  pytables.to_hdf(path_or_buf, key, self, **kwargs)\n"
     ]
    },
    {
     "name": "stdout",
     "output_type": "stream",
     "text": [
      "-rw-r--r-- 1 root root 361380208 Nov 23 10:55 fe2.h5\n",
      "CPU times: user 680 ms, sys: 468 ms, total: 1.15 s\n",
      "Wall time: 1.28 s\n"
     ]
    }
   ],
   "source": [
    "%%time\n",
    "df.to_hdf('fe2.h5', 'fe2')\n",
    "!ls -l fe2.h5"
   ]
  },
  {
   "cell_type": "code",
   "execution_count": 16,
   "metadata": {
    "colab": {
     "base_uri": "https://localhost:8080/",
     "height": 191
    },
    "colab_type": "code",
    "id": "Pw3PTGVTLCS5",
    "outputId": "e16c935f-4c43-4893-9a43-d997578b18cf"
   },
   "outputs": [],
   "source": [
    "#%%time\n",
    "#import pandas as pd\n",
    "#df = pd.read_hdf('fe2.h5')\n",
    "#df.info()"
   ]
  },
  {
   "cell_type": "markdown",
   "metadata": {},
   "source": [
    "# EDA"
   ]
  },
  {
   "cell_type": "code",
   "execution_count": 17,
   "metadata": {},
   "outputs": [],
   "source": [
    "df = df1\n",
    "df[df2.columns] = df2"
   ]
  },
  {
   "cell_type": "code",
   "execution_count": 18,
   "metadata": {},
   "outputs": [],
   "source": [
    "def get_cat_filters(lang):\n",
    "    global df, rev_cats, top_cat, other_cat\n",
    "    cat_filters = {cat: df[cat.lower()] == True for cat in set(rev_cats.values())}\n",
    "    for cat in rev_cats:\n",
    "        cat_filters[rev_cats[cat]] = cat_filters[rev_cats[cat]] | (df[cat.lower()] == True)\n",
    "    for cat in cat_filters:\n",
    "        cat_filters[cat] = cat_filters[cat] & (df[top_cat.lower()] == True)\n",
    "    cat_filters[top_cat] = df[top_cat.lower()] == True\n",
    "    cat_filters[other_cat] = df[top_cat.lower()] == True\n",
    "    for cat in rev_cats:\n",
    "        cat_filters[other_cat] = cat_filters[other_cat] & (df[cat.lower()] == False)\n",
    "    for cat in cat_filters:\n",
    "        cat_filters[cat] = cat_filters[cat] & (df['lang'] == lang)\n",
    "    return cat_filters"
   ]
  },
  {
   "cell_type": "code",
   "execution_count": 19,
   "metadata": {},
   "outputs": [],
   "source": [
    "def print_counts(lang):\n",
    "    cat_filters = get_cat_filters(lang)\n",
    "    cat_counts = {cat:0 for cat in cat_filters}\n",
    "    for cat in cat_filters:\n",
    "        cat_counts[cat] = df[cat_filters[cat]].shape[0]\n",
    "    print(cat_counts)\n",
    "    for cat in cat_counts:\n",
    "        plt.barh(cat, cat_counts[cat])\n",
    "    plt.title(lang)\n",
    "    plt.show()"
   ]
  },
  {
   "cell_type": "code",
   "execution_count": 20,
   "metadata": {},
   "outputs": [
    {
     "name": "stdout",
     "output_type": "stream",
     "text": [
      "{'Economy': 985, 'Technology': 408, 'Science': 258, 'Society': 1774, 'Sports': 1698, 'Entertainment': 558, 'News': 25406, 'Other': 19886}\n"
     ]
    },
    {
     "data": {
      "image/png": "[encoded data removed]",
      "text/plain": [
       "<Figure size 432x288 with 1 Axes>"
      ]
     },
     "metadata": {
      "needs_background": "light"
     },
     "output_type": "display_data"
    },
    {
     "name": "stdout",
     "output_type": "stream",
     "text": [
      "{'Economy': 1126, 'Technology': 440, 'Science': 259, 'Society': 1697, 'Sports': 1686, 'Entertainment': 586, 'News': 25896, 'Other': 20237}\n"
     ]
    },
    {
     "data": {
      "image/png": "[encoded data removed]",
      "text/plain": [
       "<Figure size 432x288 with 1 Axes>"
      ]
     },
     "metadata": {
      "needs_background": "light"
     },
     "output_type": "display_data"
    }
   ],
   "source": [
    "print_counts('en')\n",
    "print_counts('ru')"
   ]
  },
  {
   "cell_type": "code",
   "execution_count": 24,
   "metadata": {},
   "outputs": [
    {
     "name": "stderr",
     "output_type": "stream",
     "text": [
      "/usr/local/lib/python3.7/dist-packages/ipykernel_launcher.py:5: SettingWithCopyWarning: \n",
      "A value is trying to be set on a copy of a slice from a DataFrame.\n",
      "Try using .loc[row_indexer,col_indexer] = value instead\n",
      "\n",
      "See the caveats in the documentation: http://pandas.pydata.org/pandas-docs/stable/user_guide/indexing.html#returning-a-view-versus-a-copy\n",
      "  \"\"\"\n"
     ]
    },
    {
     "name": "stdout",
     "output_type": "stream",
     "text": [
      "<class 'pandas.core.frame.DataFrame'>\n",
      "Int64Index: 51302 entries, 6 to 227650\n",
      "Data columns (total 47 columns):\n",
      "filename             51302 non-null object\n",
      "text                 51302 non-null object\n",
      "lang                 51302 non-null object\n",
      "url                  51302 non-null object\n",
      "site                 51302 non-null object\n",
      "time                 51302 non-null object\n",
      "title                51302 non-null object\n",
      "description          51236 non-null object\n",
      "news                 51302 non-null object\n",
      "politics             51302 non-null object\n",
      "elections            51302 non-null object\n",
      "legislation          51302 non-null object\n",
      "incidents            51302 non-null object\n",
      "crime                51302 non-null object\n",
      "society              51302 non-null object\n",
      "markets              51302 non-null object\n",
      "finance              51302 non-null object\n",
      "business             51302 non-null object\n",
      "economy              51302 non-null object\n",
      "gadgets              51302 non-null object\n",
      "auto                 51302 non-null object\n",
      "apps                 51302 non-null object\n",
      "internet             51302 non-null object\n",
      "technology           51302 non-null object\n",
      "sport                51302 non-null object\n",
      "e-sport              51302 non-null object\n",
      "esport               51302 non-null object\n",
      "sports               51302 non-null object\n",
      "movies               51302 non-null object\n",
      "music                51302 non-null object\n",
      "games                51302 non-null object\n",
      "books                51302 non-null object\n",
      "arts                 51302 non-null object\n",
      "entertainment        51302 non-null object\n",
      "health               51302 non-null object\n",
      "biology              51302 non-null object\n",
      "physics              51302 non-null object\n",
      "genetics             51302 non-null object\n",
      "science              51302 non-null object\n",
      "top_economy          51302 non-null bool\n",
      "top_technology       51302 non-null bool\n",
      "top_science          51302 non-null bool\n",
      "top_society          51302 non-null bool\n",
      "top_sports           51302 non-null bool\n",
      "top_entertainment    51302 non-null bool\n",
      "top_news             51302 non-null bool\n",
      "top_other            51302 non-null bool\n",
      "dtypes: bool(8), object(39)\n",
      "memory usage: 16.0+ MB\n",
      "CPU times: user 2.8 s, sys: 56 ms, total: 2.86 s\n",
      "Wall time: 2.86 s\n"
     ]
    }
   ],
   "source": [
    "%%time\n",
    "df3 = df[get_cat_filters('en')[top_cat] | get_cat_filters('ru')[top_cat]]\n",
    "for lang in ['en', 'ru']:\n",
    "    cat_filters = get_cat_filters(df3, lang)\n",
    "    for cat in cat_filters:\n",
    "        df3['top_' + cat.lower()] = cat_filters[cat]\n",
    "df3.info()"
   ]
  },
  {
   "cell_type": "code",
   "execution_count": 22,
   "metadata": {},
   "outputs": [
    {
     "name": "stderr",
     "output_type": "stream",
     "text": [
      "/usr/local/lib/python3.7/dist-packages/pandas/core/generic.py:2530: PerformanceWarning: \n",
      "your performance may suffer as PyTables will pickle object types that it cannot\n",
      "map directly to c-types [inferred_type->mixed,key->block0_values] [items->['filename', 'text', 'lang', 'url', 'site', 'time', 'title', 'description', 'news', 'politics', 'elections', 'legislation', 'incidents', 'crime', 'society', 'markets', 'finance', 'business', 'economy', 'gadgets', 'auto', 'apps', 'internet', 'technology', 'sport', 'e-sport', 'esport', 'sports', 'movies', 'music', 'games', 'books', 'arts', 'entertainment', 'health', 'biology', 'physics', 'genetics', 'science']]\n",
      "\n",
      "  pytables.to_hdf(path_or_buf, key, self, **kwargs)\n"
     ]
    },
    {
     "name": "stdout",
     "output_type": "stream",
     "text": [
      "-rw-r--r-- 1 root root 392217432 Nov 23 10:59 fe3.h5\r\n"
     ]
    }
   ],
   "source": [
    "df3.to_hdf('fe3.h5', 'fe3')\n",
    "!ls -l fe3.h5"
   ]
  }
 ],
 "metadata": {
  "colab": {
   "collapsed_sections": [],
   "name": "telegram_data_clustering_contest_FE.ipynb",
   "provenance": []
  },
  "kernelspec": {
   "display_name": "Python 3",
   "language": "python",
   "name": "python3"
  },
  "language_info": {
   "codemirror_mode": {
    "name": "ipython",
    "version": 3
   },
   "file_extension": ".py",
   "mimetype": "text/x-python",
   "name": "python",
   "nbconvert_exporter": "python",
   "pygments_lexer": "ipython3",
   "version": "3.7.5"
  }
 },
 "nbformat": 4,
 "nbformat_minor": 1
}
